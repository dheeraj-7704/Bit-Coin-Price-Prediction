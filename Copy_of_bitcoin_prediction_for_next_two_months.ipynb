{
  "cells": [
    {
      "cell_type": "code",
      "execution_count": 3,
      "metadata": {
        "id": "PsD5BPUEfQ_8"
      },
      "outputs": [],
      "source": [
        "import numpy as np\n",
        "import pandas as pd\n",
        "from sklearn.model_selection import train_test_split\n",
        "from sklearn.svm import SVR\n",
        "import seaborn as sns\n",
        "import matplotlib.pyplot as plt\n",
        "\n",
        "%matplotlib inline"
      ]
    },
    {
      "cell_type": "code",
      "execution_count": 4,
      "metadata": {
        "id": "-EeeLK3Jfiiy"
      },
      "outputs": [],
      "source": [
        "df = pd.read_csv('/content/bitcoin.csv')"
      ]
    },
    {
      "cell_type": "code",
      "execution_count": 5,
      "metadata": {
        "colab": {
          "base_uri": "https://localhost:8080/",
          "height": 206
        },
        "id": "chFuhw9Iftu7",
        "outputId": "3d664601-c2db-4231-a224-135315ae86d0"
      },
      "outputs": [
        {
          "output_type": "execute_result",
          "data": {
            "text/plain": [
              "        Date        Price\n",
              "0  5/23/2019  7881.846680\n",
              "1  5/24/2019  7987.371582\n",
              "2  5/25/2019  8052.543945\n",
              "3  5/26/2019  8673.215820\n",
              "4  5/27/2019  8805.778320"
            ],
            "text/html": [
              "\n",
              "  <div id=\"df-fdc5150a-a1e6-4d77-b6bc-19b5d9671a2e\">\n",
              "    <div class=\"colab-df-container\">\n",
              "      <div>\n",
              "<style scoped>\n",
              "    .dataframe tbody tr th:only-of-type {\n",
              "        vertical-align: middle;\n",
              "    }\n",
              "\n",
              "    .dataframe tbody tr th {\n",
              "        vertical-align: top;\n",
              "    }\n",
              "\n",
              "    .dataframe thead th {\n",
              "        text-align: right;\n",
              "    }\n",
              "</style>\n",
              "<table border=\"1\" class=\"dataframe\">\n",
              "  <thead>\n",
              "    <tr style=\"text-align: right;\">\n",
              "      <th></th>\n",
              "      <th>Date</th>\n",
              "      <th>Price</th>\n",
              "    </tr>\n",
              "  </thead>\n",
              "  <tbody>\n",
              "    <tr>\n",
              "      <th>0</th>\n",
              "      <td>5/23/2019</td>\n",
              "      <td>7881.846680</td>\n",
              "    </tr>\n",
              "    <tr>\n",
              "      <th>1</th>\n",
              "      <td>5/24/2019</td>\n",
              "      <td>7987.371582</td>\n",
              "    </tr>\n",
              "    <tr>\n",
              "      <th>2</th>\n",
              "      <td>5/25/2019</td>\n",
              "      <td>8052.543945</td>\n",
              "    </tr>\n",
              "    <tr>\n",
              "      <th>3</th>\n",
              "      <td>5/26/2019</td>\n",
              "      <td>8673.215820</td>\n",
              "    </tr>\n",
              "    <tr>\n",
              "      <th>4</th>\n",
              "      <td>5/27/2019</td>\n",
              "      <td>8805.778320</td>\n",
              "    </tr>\n",
              "  </tbody>\n",
              "</table>\n",
              "</div>\n",
              "      <button class=\"colab-df-convert\" onclick=\"convertToInteractive('df-fdc5150a-a1e6-4d77-b6bc-19b5d9671a2e')\"\n",
              "              title=\"Convert this dataframe to an interactive table.\"\n",
              "              style=\"display:none;\">\n",
              "        \n",
              "  <svg xmlns=\"http://www.w3.org/2000/svg\" height=\"24px\"viewBox=\"0 0 24 24\"\n",
              "       width=\"24px\">\n",
              "    <path d=\"M0 0h24v24H0V0z\" fill=\"none\"/>\n",
              "    <path d=\"M18.56 5.44l.94 2.06.94-2.06 2.06-.94-2.06-.94-.94-2.06-.94 2.06-2.06.94zm-11 1L8.5 8.5l.94-2.06 2.06-.94-2.06-.94L8.5 2.5l-.94 2.06-2.06.94zm10 10l.94 2.06.94-2.06 2.06-.94-2.06-.94-.94-2.06-.94 2.06-2.06.94z\"/><path d=\"M17.41 7.96l-1.37-1.37c-.4-.4-.92-.59-1.43-.59-.52 0-1.04.2-1.43.59L10.3 9.45l-7.72 7.72c-.78.78-.78 2.05 0 2.83L4 21.41c.39.39.9.59 1.41.59.51 0 1.02-.2 1.41-.59l7.78-7.78 2.81-2.81c.8-.78.8-2.07 0-2.86zM5.41 20L4 18.59l7.72-7.72 1.47 1.35L5.41 20z\"/>\n",
              "  </svg>\n",
              "      </button>\n",
              "      \n",
              "  <style>\n",
              "    .colab-df-container {\n",
              "      display:flex;\n",
              "      flex-wrap:wrap;\n",
              "      gap: 12px;\n",
              "    }\n",
              "\n",
              "    .colab-df-convert {\n",
              "      background-color: #E8F0FE;\n",
              "      border: none;\n",
              "      border-radius: 50%;\n",
              "      cursor: pointer;\n",
              "      display: none;\n",
              "      fill: #1967D2;\n",
              "      height: 32px;\n",
              "      padding: 0 0 0 0;\n",
              "      width: 32px;\n",
              "    }\n",
              "\n",
              "    .colab-df-convert:hover {\n",
              "      background-color: #E2EBFA;\n",
              "      box-shadow: 0px 1px 2px rgba(60, 64, 67, 0.3), 0px 1px 3px 1px rgba(60, 64, 67, 0.15);\n",
              "      fill: #174EA6;\n",
              "    }\n",
              "\n",
              "    [theme=dark] .colab-df-convert {\n",
              "      background-color: #3B4455;\n",
              "      fill: #D2E3FC;\n",
              "    }\n",
              "\n",
              "    [theme=dark] .colab-df-convert:hover {\n",
              "      background-color: #434B5C;\n",
              "      box-shadow: 0px 1px 3px 1px rgba(0, 0, 0, 0.15);\n",
              "      filter: drop-shadow(0px 1px 2px rgba(0, 0, 0, 0.3));\n",
              "      fill: #FFFFFF;\n",
              "    }\n",
              "  </style>\n",
              "\n",
              "      <script>\n",
              "        const buttonEl =\n",
              "          document.querySelector('#df-fdc5150a-a1e6-4d77-b6bc-19b5d9671a2e button.colab-df-convert');\n",
              "        buttonEl.style.display =\n",
              "          google.colab.kernel.accessAllowed ? 'block' : 'none';\n",
              "\n",
              "        async function convertToInteractive(key) {\n",
              "          const element = document.querySelector('#df-fdc5150a-a1e6-4d77-b6bc-19b5d9671a2e');\n",
              "          const dataTable =\n",
              "            await google.colab.kernel.invokeFunction('convertToInteractive',\n",
              "                                                     [key], {});\n",
              "          if (!dataTable) return;\n",
              "\n",
              "          const docLinkHtml = 'Like what you see? Visit the ' +\n",
              "            '<a target=\"_blank\" href=https://colab.research.google.com/notebooks/data_table.ipynb>data table notebook</a>'\n",
              "            + ' to learn more about interactive tables.';\n",
              "          element.innerHTML = '';\n",
              "          dataTable['output_type'] = 'display_data';\n",
              "          await google.colab.output.renderOutput(dataTable, element);\n",
              "          const docLink = document.createElement('div');\n",
              "          docLink.innerHTML = docLinkHtml;\n",
              "          element.appendChild(docLink);\n",
              "        }\n",
              "      </script>\n",
              "    </div>\n",
              "  </div>\n",
              "  "
            ]
          },
          "metadata": {},
          "execution_count": 5
        }
      ],
      "source": [
        "df.head()"
      ]
    },
    {
      "cell_type": "code",
      "execution_count": 6,
      "metadata": {
        "colab": {
          "base_uri": "https://localhost:8080/"
        },
        "id": "ydWfNyoQf7ML",
        "outputId": "b978bb9c-5b0f-45c5-ec8d-1d41435d2f47"
      },
      "outputs": [
        {
          "output_type": "stream",
          "name": "stderr",
          "text": [
            "<ipython-input-6-9eb6254188c1>:1: FutureWarning: In a future version of pandas all arguments of DataFrame.drop except for the argument 'labels' will be keyword-only.\n",
            "  df.drop(['Date'],1,inplace=True)\n"
          ]
        }
      ],
      "source": [
        "df.drop(['Date'],1,inplace=True)"
      ]
    },
    {
      "cell_type": "code",
      "execution_count": 7,
      "metadata": {
        "colab": {
          "base_uri": "https://localhost:8080/"
        },
        "id": "Oja_Ynz4gBPL",
        "outputId": "d8107a41-6b63-4f4d-f406-922c65bae0a9"
      },
      "outputs": [
        {
          "output_type": "stream",
          "name": "stdout",
          "text": [
            "         Price\n",
            "0  7881.846680\n",
            "1  7987.371582\n",
            "2  8052.543945\n",
            "3  8673.215820\n",
            "4  8805.778320\n"
          ]
        }
      ],
      "source": [
        "b=df.head()\n",
        "print(b)"
      ]
    },
    {
      "cell_type": "code",
      "execution_count": 8,
      "metadata": {
        "colab": {
          "base_uri": "https://localhost:8080/"
        },
        "id": "-n14sL5YgI07",
        "outputId": "8f45be35-bea5-4d87-82a2-607504cbe8ac"
      },
      "outputs": [
        {
          "output_type": "stream",
          "name": "stdout",
          "text": [
            "         Price    Prediction\n",
            "0  7881.846680  10343.106450\n",
            "1  7987.371582   9900.767578\n",
            "2  8052.543945   9811.925781\n",
            "3  8673.215820   9911.841797\n",
            "4  8805.778320   9870.303711\n"
          ]
        }
      ],
      "source": [
        "predictionDays = 60\n",
        "df['Prediction'] = df[['Price']].shift(-predictionDays)\n",
        "c=df.head()\n",
        "print(c)"
      ]
    },
    {
      "cell_type": "code",
      "execution_count": 9,
      "metadata": {
        "colab": {
          "base_uri": "https://localhost:8080/"
        },
        "id": "d6qlTwiwgfdZ",
        "outputId": "742a779b-8f8c-449b-917d-fe3875169ff6"
      },
      "outputs": [
        {
          "output_type": "stream",
          "name": "stdout",
          "text": [
            "           Price  Prediction\n",
            "362  9729.038086         NaN\n",
            "363  9522.981445         NaN\n",
            "364  9081.761719         NaN\n",
            "365  9182.577148         NaN\n",
            "366  9180.045898         NaN\n"
          ]
        }
      ],
      "source": [
        "p=df.tail()\n",
        "print(p)"
      ]
    },
    {
      "cell_type": "code",
      "execution_count": 10,
      "metadata": {
        "colab": {
          "base_uri": "https://localhost:8080/"
        },
        "id": "mVCLTaV-gma9",
        "outputId": "26402610-9d69-424b-f2d8-e8027abec8e1"
      },
      "outputs": [
        {
          "output_type": "stream",
          "name": "stdout",
          "text": [
            "[[ 7881.84668 ]\n",
            " [ 7987.371582]\n",
            " [ 8052.543945]\n",
            " [ 8673.21582 ]\n",
            " [ 8805.77832 ]\n",
            " [ 8719.961914]\n",
            " [ 8659.487305]\n",
            " [ 8319.472656]\n",
            " [ 8574.501953]\n",
            " [ 8564.016602]\n",
            " [ 8742.958008]\n",
            " [ 8208.995117]\n",
            " [ 7707.770996]\n",
            " [ 7824.231445]\n",
            " [ 7822.023438]\n",
            " [ 8043.951172]\n",
            " [ 7954.12793 ]\n",
            " [ 7688.077148]\n",
            " [ 8000.32959 ]\n",
            " [ 7927.714355]\n",
            " [ 8145.857422]\n",
            " [ 8230.923828]\n",
            " [ 8693.833008]\n",
            " [ 8838.375   ]\n",
            " [ 8994.488281]\n",
            " [ 9320.352539]\n",
            " [ 9081.762695]\n",
            " [ 9273.521484]\n",
            " [ 9527.160156]\n",
            " [10144.55664 ]\n",
            " [10701.69141 ]\n",
            " [10855.37109 ]\n",
            " [11011.10254 ]\n",
            " [11790.91699 ]\n",
            " [13016.23145 ]\n",
            " [11182.80664 ]\n",
            " [12407.33203 ]\n",
            " [11959.37109 ]\n",
            " [10817.15527 ]\n",
            " [10583.13477 ]\n",
            " [10801.67773 ]\n",
            " [11961.26953 ]\n",
            " [11215.4375  ]\n",
            " [10978.45996 ]\n",
            " [11208.55078 ]\n",
            " [11450.84668 ]\n",
            " [12285.95801 ]\n",
            " [12573.8125  ]\n",
            " [12156.5127  ]\n",
            " [11358.66211 ]\n",
            " [11815.98633 ]\n",
            " [11392.37891 ]\n",
            " [10256.05859 ]\n",
            " [10895.08984 ]\n",
            " [ 9477.641602]\n",
            " [ 9693.802734]\n",
            " [10666.48242 ]\n",
            " [10530.73242 ]\n",
            " [10767.13965 ]\n",
            " [10599.10547 ]\n",
            " [10343.10645 ]\n",
            " [ 9900.767578]\n",
            " [ 9811.925781]\n",
            " [ 9911.841797]\n",
            " [ 9870.303711]\n",
            " [ 9477.677734]\n",
            " [ 9552.860352]\n",
            " [ 9519.145508]\n",
            " [ 9607.423828]\n",
            " [10085.62793 ]\n",
            " [10399.66895 ]\n",
            " [10518.17481 ]\n",
            " [10821.72656 ]\n",
            " [10970.18457 ]\n",
            " [11805.65332 ]\n",
            " [11478.16895 ]\n",
            " [11941.96875 ]\n",
            " [11966.40723 ]\n",
            " [11862.93652 ]\n",
            " [11354.02441 ]\n",
            " [11523.5791  ]\n",
            " [11382.61621 ]\n",
            " [10895.83008 ]\n",
            " [10051.7041  ]\n",
            " [10311.5459  ]\n",
            " [10374.33887 ]\n",
            " [10231.74414 ]\n",
            " [10345.81055 ]\n",
            " [10916.05371 ]\n",
            " [10763.23242 ]\n",
            " [10138.04981 ]\n",
            " [10131.05566 ]\n",
            " [10407.96484 ]\n",
            " [10159.96094 ]\n",
            " [10138.51758 ]\n",
            " [10370.82031 ]\n",
            " [10185.5     ]\n",
            " [ 9754.422852]\n",
            " [ 9510.200195]\n",
            " [ 9598.173828]\n",
            " [ 9630.664063]\n",
            " [ 9757.970703]\n",
            " [10346.76074 ]\n",
            " [10623.54004 ]\n",
            " [10594.49316 ]\n",
            " [10575.5332  ]\n",
            " [10353.30273 ]\n",
            " [10517.25488 ]\n",
            " [10441.27637 ]\n",
            " [10334.97461 ]\n",
            " [10115.97559 ]\n",
            " [10178.37207 ]\n",
            " [10410.12695 ]\n",
            " [10360.54688 ]\n",
            " [10358.04883 ]\n",
            " [10347.71289 ]\n",
            " [10276.79395 ]\n",
            " [10241.27246 ]\n",
            " [10198.24805 ]\n",
            " [10266.41504 ]\n",
            " [10181.6416  ]\n",
            " [10019.7168  ]\n",
            " [10070.39258 ]\n",
            " [ 9729.324219]\n",
            " [ 8620.566406]\n",
            " [ 8486.993164]\n",
            " [ 8118.967773]\n",
            " [ 8251.845703]\n",
            " [ 8245.915039]\n",
            " [ 8104.185547]\n",
            " [ 8293.868164]\n",
            " [ 8343.276367]\n",
            " [ 8393.041992]\n",
            " [ 8259.992188]\n",
            " [ 8205.939453]\n",
            " [ 8151.500488]\n",
            " [ 7988.155762]\n",
            " [ 8245.623047]\n",
            " [ 8228.783203]\n",
            " [ 8595.740234]\n",
            " [ 8586.473633]\n",
            " [ 8321.756836]\n",
            " [ 8336.555664]\n",
            " [ 8321.005859]\n",
            " [ 8374.686523]\n",
            " [ 8205.369141]\n",
            " [ 8047.526855]\n",
            " [ 8103.911133]\n",
            " [ 7973.20752 ]\n",
            " [ 7988.560547]\n",
            " [ 8222.078125]\n",
            " [ 8243.720703]\n",
            " [ 8078.203125]\n",
            " [ 7514.671875]\n",
            " [ 7493.48877 ]\n",
            " [ 8660.700195]\n",
            " [ 9244.972656]\n",
            " [ 9551.714844]\n",
            " [ 9256.148438]\n",
            " [ 9427.6875  ]\n",
            " [ 9205.726563]\n",
            " [ 9199.584961]\n",
            " [ 9261.104492]\n",
            " [ 9324.717773]\n",
            " [ 9235.354492]\n",
            " [ 9412.612305]\n",
            " [ 9342.527344]\n",
            " [ 9360.879883]\n",
            " [ 9267.561523]\n",
            " [ 8804.880859]\n",
            " [ 8813.582031]\n",
            " [ 9055.526367]\n",
            " [ 8757.788086]\n",
            " [ 8815.662109]\n",
            " [ 8808.262695]\n",
            " [ 8708.094727]\n",
            " [ 8491.992188]\n",
            " [ 8550.760742]\n",
            " [ 8577.975586]\n",
            " [ 8309.286133]\n",
            " [ 8206.145508]\n",
            " [ 8027.268066]\n",
            " [ 7642.75    ]\n",
            " [ 7296.577637]\n",
            " [ 7397.796875]\n",
            " [ 7047.916992]\n",
            " [ 7146.133789]\n",
            " [ 7218.371094]\n",
            " [ 7531.663574]\n",
            " [ 7463.105957]\n",
            " [ 7761.243652]\n",
            " [ 7569.629883]\n",
            " [ 7424.29248 ]\n",
            " [ 7321.988281]\n",
            " [ 7320.145508]\n",
            " [ 7252.034668]\n",
            " [ 7448.307617]\n",
            " [ 7546.996582]\n",
            " [ 7556.237793]\n",
            " [ 7564.345215]\n",
            " [ 7400.899414]\n",
            " [ 7278.119629]\n",
            " [ 7217.427246]\n",
            " [ 7243.134277]\n",
            " [ 7269.68457 ]\n",
            " [ 7124.673828]\n",
            " [ 7152.301758]\n",
            " [ 6932.480469]\n",
            " [ 6640.515137]\n",
            " [ 7276.802734]\n",
            " [ 7202.844238]\n",
            " [ 7218.816406]\n",
            " [ 7191.158691]\n",
            " [ 7511.588867]\n",
            " [ 7355.628418]\n",
            " [ 7322.532227]\n",
            " [ 7275.155762]\n",
            " [ 7238.966797]\n",
            " [ 7290.088379]\n",
            " [ 7317.990234]\n",
            " [ 7422.652832]\n",
            " [ 7292.995117]\n",
            " [ 7193.599121]\n",
            " [ 7200.174316]\n",
            " [ 6985.470215]\n",
            " [ 7344.884277]\n",
            " [ 7410.656738]\n",
            " [ 7411.317383]\n",
            " [ 7769.219238]\n",
            " [ 8163.692383]\n",
            " [ 8079.862793]\n",
            " [ 7879.071289]\n",
            " [ 8166.554199]\n",
            " [ 8037.537598]\n",
            " [ 8192.494141]\n",
            " [ 8144.194336]\n",
            " [ 8827.764648]\n",
            " [ 8807.010742]\n",
            " [ 8723.786133]\n",
            " [ 8929.038086]\n",
            " [ 8942.808594]\n",
            " [ 8706.245117]\n",
            " [ 8657.642578]\n",
            " [ 8745.894531]\n",
            " [ 8680.875977]\n",
            " [ 8406.515625]\n",
            " [ 8445.43457 ]\n",
            " [ 8367.847656]\n",
            " [ 8596.830078]\n",
            " [ 8909.819336]\n",
            " [ 9358.589844]\n",
            " [ 9316.629883]\n",
            " [ 9508.993164]\n",
            " [ 9350.529297]\n",
            " [ 9392.875   ]\n",
            " [ 9344.365234]\n",
            " [ 9293.521484]\n",
            " [ 9180.962891]\n",
            " [ 9613.423828]\n",
            " [ 9729.801758]\n",
            " [ 9795.943359]\n",
            " [ 9865.119141]\n",
            " [10116.67383 ]\n",
            " [ 9856.611328]\n",
            " [10208.23633 ]\n",
            " [10326.05469 ]\n",
            " [10214.37988 ]\n",
            " [10312.11621 ]\n",
            " [ 9889.424805]\n",
            " [ 9934.433594]\n",
            " [ 9690.142578]\n",
            " [10141.99609 ]\n",
            " [ 9633.386719]\n",
            " [ 9608.475586]\n",
            " [ 9686.441406]\n",
            " [ 9663.181641]\n",
            " [ 9924.515625]\n",
            " [ 9650.174805]\n",
            " [ 9341.705078]\n",
            " [ 8820.522461]\n",
            " [ 8784.494141]\n",
            " [ 8672.455078]\n",
            " [ 8599.508789]\n",
            " [ 8562.454102]\n",
            " [ 8869.669922]\n",
            " [ 8787.786133]\n",
            " [ 8755.246094]\n",
            " [ 9078.762695]\n",
            " [ 9122.545898]\n",
            " [ 8909.954102]\n",
            " [ 8108.116211]\n",
            " [ 7923.644531]\n",
            " [ 7909.729492]\n",
            " [ 7911.430176]\n",
            " [ 4970.788086]\n",
            " [ 5563.707031]\n",
            " [ 5200.366211]\n",
            " [ 5392.314941]\n",
            " [ 5014.47998 ]\n",
            " [ 5225.629395]\n",
            " [ 5238.438477]\n",
            " [ 6191.192871]\n",
            " [ 6198.77832 ]\n",
            " [ 6185.066406]\n",
            " [ 5830.254883]\n",
            " [ 6416.314941]\n",
            " [ 6734.803711]]\n"
          ]
        },
        {
          "output_type": "stream",
          "name": "stderr",
          "text": [
            "<ipython-input-10-38031f952bcd>:1: FutureWarning: In a future version of pandas all arguments of DataFrame.drop except for the argument 'labels' will be keyword-only.\n",
            "  x = np.array(df.drop(['Prediction'],1))\n"
          ]
        }
      ],
      "source": [
        "x = np.array(df.drop(['Prediction'],1))\n",
        "x = x[:len(df)-predictionDays]\n",
        "print(x)\n"
      ]
    },
    {
      "cell_type": "code",
      "execution_count": 11,
      "metadata": {
        "colab": {
          "base_uri": "https://localhost:8080/"
        },
        "id": "bCoMZXkkhNhs",
        "outputId": "fcde5df8-b588-4daa-a991-e0b697910772"
      },
      "outputs": [
        {
          "output_type": "stream",
          "name": "stdout",
          "text": [
            "[10343.10645   9900.767578  9811.925781  9911.841797  9870.303711\n",
            "  9477.677734  9552.860352  9519.145508  9607.423828 10085.62793\n",
            " 10399.66895  10518.17481  10821.72656  10970.18457  11805.65332\n",
            " 11478.16895  11941.96875  11966.40723  11862.93652  11354.02441\n",
            " 11523.5791   11382.61621  10895.83008  10051.7041   10311.5459\n",
            " 10374.33887  10231.74414  10345.81055  10916.05371  10763.23242\n",
            " 10138.04981  10131.05566  10407.96484  10159.96094  10138.51758\n",
            " 10370.82031  10185.5       9754.422852  9510.200195  9598.173828\n",
            "  9630.664063  9757.970703 10346.76074  10623.54004  10594.49316\n",
            " 10575.5332   10353.30273  10517.25488  10441.27637  10334.97461\n",
            " 10115.97559  10178.37207  10410.12695  10360.54688  10358.04883\n",
            " 10347.71289  10276.79395  10241.27246  10198.24805  10266.41504\n",
            " 10181.6416   10019.7168   10070.39258   9729.324219  8620.566406\n",
            "  8486.993164  8118.967773  8251.845703  8245.915039  8104.185547\n",
            "  8293.868164  8343.276367  8393.041992  8259.992188  8205.939453\n",
            "  8151.500488  7988.155762  8245.623047  8228.783203  8595.740234\n",
            "  8586.473633  8321.756836  8336.555664  8321.005859  8374.686523\n",
            "  8205.369141  8047.526855  8103.911133  7973.20752   7988.560547\n",
            "  8222.078125  8243.720703  8078.203125  7514.671875  7493.48877\n",
            "  8660.700195  9244.972656  9551.714844  9256.148438  9427.6875\n",
            "  9205.726563  9199.584961  9261.104492  9324.717773  9235.354492\n",
            "  9412.612305  9342.527344  9360.879883  9267.561523  8804.880859\n",
            "  8813.582031  9055.526367  8757.788086  8815.662109  8808.262695\n",
            "  8708.094727  8491.992188  8550.760742  8577.975586  8309.286133\n",
            "  8206.145508  8027.268066  7642.75      7296.577637  7397.796875\n",
            "  7047.916992  7146.133789  7218.371094  7531.663574  7463.105957\n",
            "  7761.243652  7569.629883  7424.29248   7321.988281  7320.145508\n",
            "  7252.034668  7448.307617  7546.996582  7556.237793  7564.345215\n",
            "  7400.899414  7278.119629  7217.427246  7243.134277  7269.68457\n",
            "  7124.673828  7152.301758  6932.480469  6640.515137  7276.802734\n",
            "  7202.844238  7218.816406  7191.158691  7511.588867  7355.628418\n",
            "  7322.532227  7275.155762  7238.966797  7290.088379  7317.990234\n",
            "  7422.652832  7292.995117  7193.599121  7200.174316  6985.470215\n",
            "  7344.884277  7410.656738  7411.317383  7769.219238  8163.692383\n",
            "  8079.862793  7879.071289  8166.554199  8037.537598  8192.494141\n",
            "  8144.194336  8827.764648  8807.010742  8723.786133  8929.038086\n",
            "  8942.808594  8706.245117  8657.642578  8745.894531  8680.875977\n",
            "  8406.515625  8445.43457   8367.847656  8596.830078  8909.819336\n",
            "  9358.589844  9316.629883  9508.993164  9350.529297  9392.875\n",
            "  9344.365234  9293.521484  9180.962891  9613.423828  9729.801758\n",
            "  9795.943359  9865.119141 10116.67383   9856.611328 10208.23633\n",
            " 10326.05469  10214.37988  10312.11621   9889.424805  9934.433594\n",
            "  9690.142578 10141.99609   9633.386719  9608.475586  9686.441406\n",
            "  9663.181641  9924.515625  9650.174805  9341.705078  8820.522461\n",
            "  8784.494141  8672.455078  8599.508789  8562.454102  8869.669922\n",
            "  8787.786133  8755.246094  9078.762695  9122.545898  8909.954102\n",
            "  8108.116211  7923.644531  7909.729492  7911.430176  4970.788086\n",
            "  5563.707031  5200.366211  5392.314941  5014.47998   5225.629395\n",
            "  5238.438477  6191.192871  6198.77832   6185.066406  5830.254883\n",
            "  6416.314941  6734.803711  6681.062988  6716.44043   6469.79834\n",
            "  6242.193848  5922.042969  6429.841797  6438.644531  6606.776367\n",
            "  6793.624512  6733.387207  6867.527344  6791.129395  7271.78125\n",
            "  7176.414551  7334.098633  7302.089355  6865.493164  6859.083008\n",
            "  6971.091797  6845.037598  6842.427734  6642.109863  7116.804199\n",
            "  7096.18457   7257.665039  7189.424805  6881.958496  6880.323242\n",
            "  7117.20752   7429.724609  7550.900879  7569.936035  7679.867188\n",
            "  7795.601074  7807.058594  8801.038086  8658.553711  8864.766602\n",
            "  8988.59668   8897.46875   8912.654297  9003.070313  9268.761719\n",
            "  9951.518555  9842.666016  9593.896484  8756.430664  8601.795898\n",
            "  8804.477539  9269.987305  9733.72168   9328.197266  9377.013672\n",
            "  9670.739258  9726.575195  9729.038086  9522.981445  9081.761719\n",
            "  9182.577148  9180.045898]\n"
          ]
        }
      ],
      "source": [
        "y = np.array(df['Prediction'])\n",
        "y = y[:-predictionDays]\n",
        "print(y)"
      ]
    },
    {
      "cell_type": "code",
      "execution_count": 12,
      "metadata": {
        "colab": {
          "base_uri": "https://localhost:8080/"
        },
        "id": "tN5BX2LwhW8U",
        "outputId": "9fea59f8-77f4-4cde-9f34-33752e907ffc"
      },
      "outputs": [
        {
          "output_type": "stream",
          "name": "stdout",
          "text": [
            "[[6681.062988]\n",
            " [6716.44043 ]\n",
            " [6469.79834 ]\n",
            " [6242.193848]\n",
            " [5922.042969]\n",
            " [6429.841797]\n",
            " [6438.644531]\n",
            " [6606.776367]\n",
            " [6793.624512]\n",
            " [6733.387207]\n",
            " [6867.527344]\n",
            " [6791.129395]\n",
            " [7271.78125 ]\n",
            " [7176.414551]\n",
            " [7334.098633]\n",
            " [7302.089355]\n",
            " [6865.493164]\n",
            " [6859.083008]\n",
            " [6971.091797]\n",
            " [6845.037598]\n",
            " [6842.427734]\n",
            " [6642.109863]\n",
            " [7116.804199]\n",
            " [7096.18457 ]\n",
            " [7257.665039]\n",
            " [7189.424805]\n",
            " [6881.958496]\n",
            " [6880.323242]\n",
            " [7117.20752 ]\n",
            " [7429.724609]\n",
            " [7550.900879]\n",
            " [7569.936035]\n",
            " [7679.867188]\n",
            " [7795.601074]\n",
            " [7807.058594]\n",
            " [8801.038086]\n",
            " [8658.553711]\n",
            " [8864.766602]\n",
            " [8988.59668 ]\n",
            " [8897.46875 ]\n",
            " [8912.654297]\n",
            " [9003.070313]\n",
            " [9268.761719]\n",
            " [9951.518555]\n",
            " [9842.666016]\n",
            " [9593.896484]\n",
            " [8756.430664]\n",
            " [8601.795898]\n",
            " [8804.477539]\n",
            " [9269.987305]\n",
            " [9733.72168 ]\n",
            " [9328.197266]\n",
            " [9377.013672]\n",
            " [9670.739258]\n",
            " [9726.575195]\n",
            " [9729.038086]\n",
            " [9522.981445]\n",
            " [9081.761719]\n",
            " [9182.577148]\n",
            " [9180.045898]]\n"
          ]
        },
        {
          "output_type": "stream",
          "name": "stderr",
          "text": [
            "<ipython-input-12-3903e80d5da3>:2: FutureWarning: In a future version of pandas all arguments of DataFrame.drop except for the argument 'labels' will be keyword-only.\n",
            "  predictionDays_array = np.array(df.drop(['Prediction'],1))[-predictionDays:]\n"
          ]
        }
      ],
      "source": [
        "xtrain, xtest, ytrain, ytest = train_test_split(x,y, test_size = 0.2)\n",
        "predictionDays_array = np.array(df.drop(['Prediction'],1))[-predictionDays:]\n",
        "print(predictionDays_array)"
      ]
    },
    {
      "cell_type": "code",
      "execution_count": 13,
      "metadata": {
        "colab": {
          "base_uri": "https://localhost:8080/",
          "height": 74
        },
        "id": "LyPfvJFzhfSb",
        "outputId": "72f0a5c0-f4c5-4fe9-ebda-acfb91cb60d1"
      },
      "outputs": [
        {
          "output_type": "execute_result",
          "data": {
            "text/plain": [
              "SVR(C=1000.0, gamma=1e-05)"
            ],
            "text/html": [
              "<style>#sk-container-id-1 {color: black;background-color: white;}#sk-container-id-1 pre{padding: 0;}#sk-container-id-1 div.sk-toggleable {background-color: white;}#sk-container-id-1 label.sk-toggleable__label {cursor: pointer;display: block;width: 100%;margin-bottom: 0;padding: 0.3em;box-sizing: border-box;text-align: center;}#sk-container-id-1 label.sk-toggleable__label-arrow:before {content: \"▸\";float: left;margin-right: 0.25em;color: #696969;}#sk-container-id-1 label.sk-toggleable__label-arrow:hover:before {color: black;}#sk-container-id-1 div.sk-estimator:hover label.sk-toggleable__label-arrow:before {color: black;}#sk-container-id-1 div.sk-toggleable__content {max-height: 0;max-width: 0;overflow: hidden;text-align: left;background-color: #f0f8ff;}#sk-container-id-1 div.sk-toggleable__content pre {margin: 0.2em;color: black;border-radius: 0.25em;background-color: #f0f8ff;}#sk-container-id-1 input.sk-toggleable__control:checked~div.sk-toggleable__content {max-height: 200px;max-width: 100%;overflow: auto;}#sk-container-id-1 input.sk-toggleable__control:checked~label.sk-toggleable__label-arrow:before {content: \"▾\";}#sk-container-id-1 div.sk-estimator input.sk-toggleable__control:checked~label.sk-toggleable__label {background-color: #d4ebff;}#sk-container-id-1 div.sk-label input.sk-toggleable__control:checked~label.sk-toggleable__label {background-color: #d4ebff;}#sk-container-id-1 input.sk-hidden--visually {border: 0;clip: rect(1px 1px 1px 1px);clip: rect(1px, 1px, 1px, 1px);height: 1px;margin: -1px;overflow: hidden;padding: 0;position: absolute;width: 1px;}#sk-container-id-1 div.sk-estimator {font-family: monospace;background-color: #f0f8ff;border: 1px dotted black;border-radius: 0.25em;box-sizing: border-box;margin-bottom: 0.5em;}#sk-container-id-1 div.sk-estimator:hover {background-color: #d4ebff;}#sk-container-id-1 div.sk-parallel-item::after {content: \"\";width: 100%;border-bottom: 1px solid gray;flex-grow: 1;}#sk-container-id-1 div.sk-label:hover label.sk-toggleable__label {background-color: #d4ebff;}#sk-container-id-1 div.sk-serial::before {content: \"\";position: absolute;border-left: 1px solid gray;box-sizing: border-box;top: 0;bottom: 0;left: 50%;z-index: 0;}#sk-container-id-1 div.sk-serial {display: flex;flex-direction: column;align-items: center;background-color: white;padding-right: 0.2em;padding-left: 0.2em;position: relative;}#sk-container-id-1 div.sk-item {position: relative;z-index: 1;}#sk-container-id-1 div.sk-parallel {display: flex;align-items: stretch;justify-content: center;background-color: white;position: relative;}#sk-container-id-1 div.sk-item::before, #sk-container-id-1 div.sk-parallel-item::before {content: \"\";position: absolute;border-left: 1px solid gray;box-sizing: border-box;top: 0;bottom: 0;left: 50%;z-index: -1;}#sk-container-id-1 div.sk-parallel-item {display: flex;flex-direction: column;z-index: 1;position: relative;background-color: white;}#sk-container-id-1 div.sk-parallel-item:first-child::after {align-self: flex-end;width: 50%;}#sk-container-id-1 div.sk-parallel-item:last-child::after {align-self: flex-start;width: 50%;}#sk-container-id-1 div.sk-parallel-item:only-child::after {width: 0;}#sk-container-id-1 div.sk-dashed-wrapped {border: 1px dashed gray;margin: 0 0.4em 0.5em 0.4em;box-sizing: border-box;padding-bottom: 0.4em;background-color: white;}#sk-container-id-1 div.sk-label label {font-family: monospace;font-weight: bold;display: inline-block;line-height: 1.2em;}#sk-container-id-1 div.sk-label-container {text-align: center;}#sk-container-id-1 div.sk-container {/* jupyter's `normalize.less` sets `[hidden] { display: none; }` but bootstrap.min.css set `[hidden] { display: none !important; }` so we also need the `!important` here to be able to override the default hidden behavior on the sphinx rendered scikit-learn.org. See: https://github.com/scikit-learn/scikit-learn/issues/21755 */display: inline-block !important;position: relative;}#sk-container-id-1 div.sk-text-repr-fallback {display: none;}</style><div id=\"sk-container-id-1\" class=\"sk-top-container\"><div class=\"sk-text-repr-fallback\"><pre>SVR(C=1000.0, gamma=1e-05)</pre><b>In a Jupyter environment, please rerun this cell to show the HTML representation or trust the notebook. <br />On GitHub, the HTML representation is unable to render, please try loading this page with nbviewer.org.</b></div><div class=\"sk-container\" hidden><div class=\"sk-item\"><div class=\"sk-estimator sk-toggleable\"><input class=\"sk-toggleable__control sk-hidden--visually\" id=\"sk-estimator-id-1\" type=\"checkbox\" checked><label for=\"sk-estimator-id-1\" class=\"sk-toggleable__label sk-toggleable__label-arrow\">SVR</label><div class=\"sk-toggleable__content\"><pre>SVR(C=1000.0, gamma=1e-05)</pre></div></div></div></div></div>"
            ]
          },
          "metadata": {},
          "execution_count": 13
        }
      ],
      "source": [
        "svr_rbf = SVR(kernel='rbf', C=1e3, gamma=0.00001)\n",
        "svr_rbf.fit(xtrain, ytrain)"
      ]
    },
    {
      "cell_type": "code",
      "execution_count": 14,
      "metadata": {
        "colab": {
          "base_uri": "https://localhost:8080/"
        },
        "id": "O7NvQ1wHhkHz",
        "outputId": "54e7c1bf-1577-49b5-a7b9-c8f520e01035"
      },
      "outputs": [
        {
          "output_type": "stream",
          "name": "stdout",
          "text": [
            "SVR_RBF accuracy : -0.13172464037492415\n"
          ]
        }
      ],
      "source": [
        "svr_rbf_confidence = svr_rbf.score(xtest,ytest)\n",
        "print('SVR_RBF accuracy :',svr_rbf_confidence)\n"
      ]
    },
    {
      "cell_type": "code",
      "execution_count": 15,
      "metadata": {
        "colab": {
          "base_uri": "https://localhost:8080/"
        },
        "id": "cXm5aH6Ohrx9",
        "outputId": "9df9f88e-0837-496e-a35b-4ccc9520935f"
      },
      "outputs": [
        {
          "output_type": "stream",
          "name": "stdout",
          "text": [
            "[ 7368.53633682  8165.68587325  7926.79130275 10207.16299004\n",
            "  9519.7521376   8936.92746042  8549.31020685  7667.37990772\n",
            "  7947.09263723  7713.65459935  7907.3742647   7385.64655856\n",
            "  7896.61205898 10092.26964018  8086.31615702  9549.54627479\n",
            "  8565.10177677  7391.10179206 10337.12832731  9494.91623671\n",
            "  7424.56507709  7705.51123985  8193.28960872  9031.13803315\n",
            "  8971.58681583  7512.97657331 10133.1320784   8176.2133795\n",
            "  7511.47364786  8211.38273978  9216.28288632  7287.78989295\n",
            "  7448.61272777  7598.67797894  8870.22016104  7925.67308326\n",
            "  8945.33520521  7598.5494554  10068.77019013  8158.81110489\n",
            "  7375.64197489  7246.18253089 10299.31315032  9457.87543229\n",
            "  8796.83361389  8085.2903344  10285.82384494  8795.7342695\n",
            " 10342.58569856  8447.49393054 10019.26562021  8716.80925154\n",
            "  7869.96225201  9673.15907428  7810.96351123  8254.12265445\n",
            "  9711.91153404  7324.7806092   8708.95999877  9926.93193732\n",
            "  7499.39903967  9080.49673852]\n",
            "\n",
            "[10019.7168    8206.145508  7909.729492  7973.20752   9726.575195\n",
            "  8757.788086  8108.116211  8827.764648  7564.345215  8486.993164\n",
            "  8104.185547  6438.644531  9607.423828  8393.041992  9911.841797\n",
            "  8804.477539  8374.686523  6681.062988  8869.669922  8745.894531\n",
            " 10347.71289   7124.673828  7679.867188  9729.801758  9608.475586\n",
            "  7117.20752   8445.43457   9244.972656  7218.371094  8577.975586\n",
            "  9900.767578  9551.714844  6416.314941  7317.990234  7911.430176\n",
            "  7400.899414  8706.245117  7189.424805  9630.664063  6185.066406\n",
            "  7217.427246 10070.39258  10623.54004  10821.72656   8205.369141\n",
            "  7807.058594 10346.76074   7152.301758  8406.515625  8491.992188\n",
            "  7988.560547  9342.527344 10085.62793   7923.644531  8321.005859\n",
            "  7146.133789 10970.18457  10374.33887   9757.970703  8562.454102\n",
            "  6606.776367  8755.246094]\n"
          ]
        }
      ],
      "source": [
        "svm_prediction = svr_rbf.predict(xtest)\n",
        "print(svm_prediction)\n",
        "print()\n",
        "print(ytest)"
      ]
    },
    {
      "cell_type": "code",
      "execution_count": 16,
      "metadata": {
        "colab": {
          "base_uri": "https://localhost:8080/"
        },
        "id": "9inaLh0Hhy6t",
        "outputId": "705b614d-a421-415b-c0ff-4426e5e3594d"
      },
      "outputs": [
        {
          "output_type": "stream",
          "name": "stdout",
          "text": [
            "[ 9428.65549752  9538.51975357  9140.2426656   9468.87699311\n",
            "  9180.94010478  9167.98871343  9159.79688724  9247.38735474\n",
            "  9809.91903684  9595.23044254 10070.23745657  9800.82222926\n",
            "  9606.69207263 10023.43848002  9335.22078614  9470.57385158\n",
            " 10063.58277053 10042.33077724 10320.72283271  9994.44223186\n",
            "  9985.37013393  9324.24848173 10221.39633383 10271.07830229\n",
            "  9671.17311072  9971.5581472  10116.06719998 10111.00388703\n",
            " 10220.31813139  9037.89582359  9008.81582693  9041.75446434\n",
            "  9363.09879543  9684.26347138  9698.86628929  8187.63722026\n",
            "  8065.41234441  8195.62667212  8066.98326324  8184.87221987\n",
            "  8175.14524929  8033.5734768   7285.2442294   7507.03795709\n",
            "  7265.11693317  7694.03648099  8165.80628213  7960.5597385\n",
            "  8188.8128012   7285.09477162  7325.806509    7338.33443912\n",
            "  7454.40921587  7490.78262956  7341.30960951  7335.8403676\n",
            "  7759.691621    7786.32831259  7426.22947072  7433.72250016]\n",
            "[10019.7168    8206.145508  7909.729492  7973.20752   9726.575195\n",
            "  8757.788086  8108.116211  8827.764648  7564.345215  8486.993164\n",
            "  8104.185547  6438.644531  9607.423828  8393.041992  9911.841797\n",
            "  8804.477539  8374.686523  6681.062988  8869.669922  8745.894531\n",
            " 10347.71289   7124.673828  7679.867188  9729.801758  9608.475586\n",
            "  7117.20752   8445.43457   9244.972656  7218.371094  8577.975586\n",
            "  9900.767578  9551.714844  6416.314941  7317.990234  7911.430176\n",
            "  7400.899414  8706.245117  7189.424805  9630.664063  6185.066406\n",
            "  7217.427246 10070.39258  10623.54004  10821.72656   8205.369141\n",
            "  7807.058594 10346.76074   7152.301758  8406.515625  8491.992188\n",
            "  7988.560547  9342.527344 10085.62793   7923.644531  8321.005859\n",
            "  7146.133789 10970.18457  10374.33887   9757.970703  8562.454102\n",
            "  6606.776367  8755.246094]\n",
            "           Price  Prediction\n",
            "307  6681.062988         NaN\n",
            "308  6716.440430         NaN\n",
            "309  6469.798340         NaN\n",
            "310  6242.193848         NaN\n",
            "311  5922.042969         NaN\n",
            "312  6429.841797         NaN\n",
            "313  6438.644531         NaN\n",
            "314  6606.776367         NaN\n",
            "315  6793.624512         NaN\n",
            "316  6733.387207         NaN\n",
            "317  6867.527344         NaN\n",
            "318  6791.129395         NaN\n",
            "319  7271.781250         NaN\n",
            "320  7176.414551         NaN\n",
            "321  7334.098633         NaN\n",
            "322  7302.089355         NaN\n",
            "323  6865.493164         NaN\n",
            "324  6859.083008         NaN\n",
            "325  6971.091797         NaN\n",
            "326  6845.037598         NaN\n",
            "327  6842.427734         NaN\n",
            "328  6642.109863         NaN\n",
            "329  7116.804199         NaN\n",
            "330  7096.184570         NaN\n",
            "331  7257.665039         NaN\n",
            "332  7189.424805         NaN\n",
            "333  6881.958496         NaN\n",
            "334  6880.323242         NaN\n",
            "335  7117.207520         NaN\n",
            "336  7429.724609         NaN\n",
            "337  7550.900879         NaN\n",
            "338  7569.936035         NaN\n",
            "339  7679.867188         NaN\n",
            "340  7795.601074         NaN\n",
            "341  7807.058594         NaN\n",
            "342  8801.038086         NaN\n",
            "343  8658.553711         NaN\n",
            "344  8864.766602         NaN\n",
            "345  8988.596680         NaN\n",
            "346  8897.468750         NaN\n",
            "347  8912.654297         NaN\n",
            "348  9003.070313         NaN\n",
            "349  9268.761719         NaN\n",
            "350  9951.518555         NaN\n",
            "351  9842.666016         NaN\n",
            "352  9593.896484         NaN\n",
            "353  8756.430664         NaN\n",
            "354  8601.795898         NaN\n",
            "355  8804.477539         NaN\n",
            "356  9269.987305         NaN\n",
            "357  9733.721680         NaN\n",
            "358  9328.197266         NaN\n",
            "359  9377.013672         NaN\n",
            "360  9670.739258         NaN\n",
            "361  9726.575195         NaN\n",
            "362  9729.038086         NaN\n",
            "363  9522.981445         NaN\n",
            "364  9081.761719         NaN\n",
            "365  9182.577148         NaN\n",
            "366  9180.045898         NaN\n"
          ]
        }
      ],
      "source": [
        "# Print the model predictions for the next 30 days\n",
        "svm_prediction = svr_rbf.predict(predictionDays_array)\n",
        "print(svm_prediction)\n",
        "print(ytest)\n",
        "#Print the actual price for bitcoin for last 30 days\n",
        "print(df.tail(predictionDays))"
      ]
    },
    {
      "cell_type": "code",
      "source": [
        "sns.pairplot(df)"
      ],
      "metadata": {
        "id": "ik1qzg4_BnDq",
        "colab": {
          "base_uri": "https://localhost:8080/",
          "height": 530
        },
        "outputId": "f0db36d3-ddb9-4ce0-c378-3a8cb37ce108"
      },
      "execution_count": 20,
      "outputs": [
        {
          "output_type": "execute_result",
          "data": {
            "text/plain": [
              "<seaborn.axisgrid.PairGrid at 0x7f60b49bb1f0>"
            ]
          },
          "metadata": {},
          "execution_count": 20
        },
        {
          "output_type": "display_data",
          "data": {
            "text/plain": [
              "<Figure size 500x500 with 6 Axes>"
            ],
            "image/png": "[encoded data removed]"
          },
          "metadata": {}
        }
      ]
    },
    {
      "cell_type": "code",
      "source": [
        "sns.distplot(df['Price'])"
      ],
      "metadata": {
        "colab": {
          "base_uri": "https://localhost:8080/",
          "height": 657
        },
        "id": "wQkH2I9Cbupt",
        "outputId": "bada0ee9-7529-4f52-8b36-f7f5d28b3712"
      },
      "execution_count": 21,
      "outputs": [
        {
          "output_type": "stream",
          "name": "stderr",
          "text": [
            "<ipython-input-21-87e11caeb2c4>:1: UserWarning: \n",
            "\n",
            "`distplot` is a deprecated function and will be removed in seaborn v0.14.0.\n",
            "\n",
            "Please adapt your code to use either `displot` (a figure-level function with\n",
            "similar flexibility) or `histplot` (an axes-level function for histograms).\n",
            "\n",
            "For a guide to updating your code to use the new functions, please see\n",
            "https://gist.github.com/mwaskom/de44147ed2974457ad6372750bbe5751\n",
            "\n",
            "  sns.distplot(df['Price'])\n"
          ]
        },
        {
          "output_type": "execute_result",
          "data": {
            "text/plain": [
              "<Axes: xlabel='Price', ylabel='Density'>"
            ]
          },
          "metadata": {},
          "execution_count": 21
        },
        {
          "output_type": "display_data",
          "data": {
            "text/plain": [
              "<Figure size 640x480 with 1 Axes>"
            ],
            "image/png": "[encoded data removed]"
          },
          "metadata": {}
        }
      ]
    },
    {
      "cell_type": "code",
      "source": [
        "sns.heatmap(df.corr(), annot=True)"
      ],
      "metadata": {
        "colab": {
          "base_uri": "https://localhost:8080/",
          "height": 452
        },
        "id": "YqME1jm6b9wS",
        "outputId": "a05775bb-51af-49d5-9226-ed8ceefa4b67"
      },
      "execution_count": 22,
      "outputs": [
        {
          "output_type": "execute_result",
          "data": {
            "text/plain": [
              "<Axes: >"
            ]
          },
          "metadata": {},
          "execution_count": 22
        },
        {
          "output_type": "display_data",
          "data": {
            "text/plain": [
              "<Figure size 640x480 with 2 Axes>"
            ],
            "image/png": "[encoded data removed]"
          },
          "metadata": {}
        }
      ]
    }
  ],
  "metadata": {
    "colab": {
      "provenance": []
    },
    "kernelspec": {
      "display_name": "Python 3",
      "name": "python3"
    },
    "language_info": {
      "name": "python"
    }
  },
  "nbformat": 4,
  "nbformat_minor": 0
}